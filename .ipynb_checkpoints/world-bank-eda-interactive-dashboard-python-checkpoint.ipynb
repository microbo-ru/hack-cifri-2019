{
 "cells": [
  {
   "cell_type": "code",
   "execution_count": null,
   "metadata": {
    "_cell_guid": "b1076dfc-b9ad-4769-8c92-a6c4dae69d19",
    "_kg_hide-input": true,
    "_uuid": "8f2839f25d086af736a60e9eeb907d3b93b6e0e5"
   },
   "outputs": [],
   "source": [
    "# This Python 3 environment comes with many helpful analytics libraries installed\n",
    "# It is defined by the kaggle/python docker image: https://github.com/kaggle/docker-python\n",
    "# For example, here's several helpful packages to load in \n",
    "\n",
    "import pandas as pd\n",
    "from datetime import datetime\n",
    "\n",
    "\n",
    "df = pd.read_csv('../input/procurement-notices.csv')\n",
    "df.columns = [col.lower().replace(' ', '_') for col in df.columns]\n",
    "\n",
    "# number of calls currently out\n",
    "# cells with NA deadline are currently out\n",
    "df['deadline_date'] = pd.to_datetime(df['deadline_date'])\n",
    "print(\"Number of Current Calls:\",end=' ')\n",
    "print((df[df['deadline_date'] > datetime.now()] | df[df['deadline_date'].isna()]).count()['deadline_date'])\n",
    "\n",
    "current_calls = df[df['deadline_date'] > datetime.now()]"
   ]
  },
  {
   "cell_type": "code",
   "execution_count": null,
   "metadata": {
    "_kg_hide-input": true,
    "_uuid": "f12d43865e95a09c9c73612b6dec0ae9a2274175"
   },
   "outputs": [],
   "source": [
    "# import plotly\n",
    "import plotly.plotly as py\n",
    "import plotly.graph_objs as go\n",
    "from plotly import tools # for sub figures\n",
    "\n",
    "# these two lines are what allow your code to show up in a notebook!\n",
    "from plotly.offline import init_notebook_mode, iplot\n",
    "init_notebook_mode()\n",
    "\n",
    "# dist. of due dates\n",
    "due_dates = df[df['deadline_date'] > datetime.now()].groupby('deadline_date').count().dropna()\n",
    "due_dates.rename(columns={'id': 'n'}, inplace=True)\n",
    "\n",
    "# sepcify that we want a scatter plot with, with date on the x axis and meet on the y axis\n",
    "data_dates = [go.Scatter(x=due_dates.index, y=due_dates.n)]\n",
    "\n",
    "# specify the layout of our figure\n",
    "layout_dates = dict(title = \"Number of Calls Due (by Date)\",\n",
    "              xaxis= dict(title= 'Date',ticklen= 5,zeroline= False))\n",
    "\n",
    "# create and show our figure\n",
    "fig = dict(data = data_dates, layout = layout_dates)\n",
    "iplot(fig)"
   ]
  },
  {
   "cell_type": "code",
   "execution_count": null,
   "metadata": {
    "_kg_hide-input": true,
    "_uuid": "67200b1b795d112c7731de17e6521262659425f8"
   },
   "outputs": [],
   "source": [
    "# dist. by country\n",
    "calls_by_country = pd.DataFrame(current_calls.groupby('country_name').count()['id'])\n",
    "calls_by_country.rename(columns={'id': 'number_of_bids'}, inplace=True)\n",
    "\n",
    "# specify what we want our map to look like\n",
    "data_map = [dict(\n",
    "        type='choropleth',\n",
    "        autocolorscale = False,\n",
    "        locations = calls_by_country.index,\n",
    "        z = calls_by_country['number_of_bids'],\n",
    "        locationmode = 'country names'\n",
    "       ) ]\n",
    "\n",
    "# chart information\n",
    "layout_map = dict(\n",
    "        title = 'Heat Map For Number of Open Calls (by Country)',\n",
    "        geo = dict(\n",
    "                showframe = False,\n",
    "                showcoastlines = True\n",
    "            )\n",
    "        )\n",
    "   \n",
    "# actually show our figure\n",
    "fig = dict( data=data_map, layout=layout_map )\n",
    "iplot( fig, filename='d3-cloropleth-map' )"
   ]
  }
 ],
 "metadata": {
  "kernelspec": {
   "display_name": "Python 3",
   "language": "python",
   "name": "python3"
  },
  "language_info": {
   "codemirror_mode": {
    "name": "ipython",
    "version": 3
   },
   "file_extension": ".py",
   "mimetype": "text/x-python",
   "name": "python",
   "nbconvert_exporter": "python",
   "pygments_lexer": "ipython3",
   "version": "3.6.8"
  }
 },
 "nbformat": 4,
 "nbformat_minor": 1
}
